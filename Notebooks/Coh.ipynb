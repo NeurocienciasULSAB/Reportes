{
 "cells": [
  {
   "cell_type": "code",
   "execution_count": 1,
   "metadata": {},
   "outputs": [
    {
     "name": "stderr",
     "output_type": "stream",
     "text": [
      "WARNING: Compat.UTF8String is deprecated, use String instead.\n",
      "  likely near /Users/abcsds/.julia/v0.6/IJulia/src/kernel.jl:31\n",
      "WARNING: Compat.UTF8String is deprecated, use String instead.\n",
      "  likely near /Users/abcsds/.julia/v0.6/IJulia/src/kernel.jl:31\n",
      "WARNING: Compat.UTF8String is deprecated, use String instead.\n",
      "  likely near /Users/abcsds/.julia/v0.6/IJulia/src/kernel.jl:31\n",
      "WARNING: Compat.UTF8String is deprecated, use String instead.\n",
      "  likely near /Users/abcsds/.julia/v0.6/IJulia/src/kernel.jl:31\n",
      "WARNING: Compat.UTF8String is deprecated, use String instead.\n",
      "  likely near /Users/abcsds/.julia/v0.6/IJulia/src/kernel.jl:31\n",
      "WARNING: Compat.UTF8String is deprecated, use String instead.\n",
      "  likely near /Users/abcsds/.julia/v0.6/IJulia/src/kernel.jl:31\n",
      "WARNING: Compat.UTF8String is deprecated, use String instead.\n",
      "  likely near /Users/abcsds/.julia/v0.6/IJulia/src/kernel.jl:31\n"
     ]
    }
   ],
   "source": [
    "# using Conda; Conda.add(\"scipy\")\n",
    "using Plots\n",
    "using PyCall\n",
    "pyplot()\n",
    "n_channels = 19\n",
    "file = \"eeg.txt\"\n",
    "signals = readdlm(joinpath(pwd(),\"exapmle\",file),'\\t',header=true)\n",
    "sig = convert.(Float64,signals[1][:,1:n_channels]);\n",
    "header = signals[2][:,1:n_channels]\n",
    "header = [i[1:end-5] for i in header]\n",
    "sig1 = sig[:,1];\n",
    "sig2 = sig[:,2];"
   ]
  },
  {
   "cell_type": "code",
   "execution_count": 19,
   "metadata": {},
   "outputs": [
    {
     "data": {
      "text/plain": [
       "129-element Array{Float64,1}:\n",
       "  3971.0       \n",
       " 16724.0       \n",
       "  9759.64      \n",
       "  3137.91      \n",
       "  2254.06      \n",
       "  1730.6       \n",
       "   909.201     \n",
       "   654.512     \n",
       "   601.189     \n",
       "   450.737     \n",
       "   309.529     \n",
       "   276.449     \n",
       "   248.409     \n",
       "     ⋮         \n",
       "     0.00725959\n",
       "     0.00731601\n",
       "     0.00744099\n",
       "     0.00707733\n",
       "     0.00698235\n",
       "     0.00684018\n",
       "     0.00648913\n",
       "     0.0068687 \n",
       "     0.0071424 \n",
       "     0.00697542\n",
       "     0.00652593\n",
       "     0.00349859"
      ]
     },
     "execution_count": 19,
     "metadata": {},
     "output_type": "execute_result"
    }
   ],
   "source": [
    "@pyimport scipy.signal as pysig \n",
    "freqs, goal_coh = pysig.coherence(sig1,sig2)\n",
    "_, goal_csd = pysig.csd(sig1,sig2)[2]\n",
    "_, goal_welch1 = pysig.welch(sig1)[2]\n",
    "_, goal_welch2 = pysig.welch(sig2)[2]"
   ]
  },
  {
   "cell_type": "code",
   "execution_count": 20,
   "metadata": {},
   "outputs": [
    {
     "data": {
      "text/plain": [
       "false"
      ]
     },
     "execution_count": 20,
     "metadata": {},
     "output_type": "execute_result"
    }
   ],
   "source": [
    "goal_coh == goal_welch2"
   ]
  },
  {
   "cell_type": "code",
   "execution_count": 21,
   "metadata": {},
   "outputs": [
    {
     "data": {
      "text/plain": [
       "false"
      ]
     },
     "execution_count": 21,
     "metadata": {},
     "output_type": "execute_result"
    }
   ],
   "source": [
    "goal_coh == goal_welch1"
   ]
  },
  {
   "cell_type": "code",
   "execution_count": 22,
   "metadata": {},
   "outputs": [
    {
     "data": {
      "text/plain": [
       "false"
      ]
     },
     "execution_count": 22,
     "metadata": {},
     "output_type": "execute_result"
    }
   ],
   "source": [
    "goal_coh == goal_csd"
   ]
  },
  {
   "cell_type": "code",
   "execution_count": 23,
   "metadata": {},
   "outputs": [
    {
     "data": {
      "text/plain": [
       "cov2coh! (generic function with 3 methods)"
      ]
     },
     "execution_count": 23,
     "metadata": {},
     "output_type": "execute_result"
    }
   ],
   "source": [
    "function cov2coh!{T<:Real}(out::Union{AbstractMatrix{Complex{T}}, AbstractMatrix{T}},\n",
    "                           X::AbstractVecOrMat, Y::AbstractVecOrMat,\n",
    "                           Xtmp::AbstractVecOrMat{T}, Ytmp::AbstractVecOrMat{T},\n",
    "                           XYc::Union{AbstractMatrix{Complex{T}}, AbstractMatrix{T}}=out,\n",
    "                           f=Base.IdFun())\n",
    "    \n",
    "#     out, Ac_mul_A!(work, X), Base.AbsFun()\n",
    "    \n",
    "#     (size(XYc, 1) == length(Xtmp) && size(XYc, 2) == length(Ytmp)) ||\n",
    "#         error(DimensionMismatch(\"work size mismatch\"))\n",
    "#     (size(out, 1) == size(XYc, 1) && size(out, 2) == size(XYc, 2)) ||\n",
    "#         error(DimensionMismatch(\"output size mismatch\"))\n",
    "\n",
    "    sumabs2!(Xtmp, X)\n",
    "    sumabs2!(Ytmp, Y)\n",
    "    for i = 1:length(Xtmp)\n",
    "        Xtmp[i] = 1/sqrt(Xtmp[i])\n",
    "    end\n",
    "    for i = 1:length(Ytmp)\n",
    "        Ytmp[i] = 1/sqrt(Ytmp[i])\n",
    "    end\n",
    "\n",
    "    for j = 1:size(XYc, 2), i = 1:size(XYc, 1)\n",
    "        @inbounds out[i, j] = f(XYc[i, j])*(Xtmp[i]*Ytmp[j])\n",
    "    end\n",
    "    out\n",
    "end"
   ]
  },
  {
   "cell_type": "code",
   "execution_count": 24,
   "metadata": {
    "collapsed": true
   },
   "outputs": [],
   "source": [
    "using StatsBase"
   ]
  },
  {
   "cell_type": "code",
   "execution_count": 27,
   "metadata": {},
   "outputs": [
    {
     "ename": "LoadError",
     "evalue": "\u001b[91mMethodError: no method matching cov2coh!(::Array{Float64,1})\u001b[0m\nClosest candidates are:\n  cov2coh!(\u001b[91m::Union{AbstractArray{Complex{T<:Real},2}, AbstractArray{T<:Real,2}}\u001b[39m, \u001b[91m::Union{AbstractArray{T,1}, AbstractArray{T,2}} where T\u001b[39m, \u001b[91m::Union{AbstractArray{T,1}, AbstractArray{T,2}} where T\u001b[39m, \u001b[91m::Union{AbstractArray{T<:Real,1}, AbstractArray{T<:Real,2}}\u001b[39m, \u001b[91m::Union{AbstractArray{T<:Real,1}, AbstractArray{T<:Real,2}}\u001b[39m) where T<:Real at In[23]:6\n  cov2coh!(\u001b[91m::Union{AbstractArray{Complex{T<:Real},2}, AbstractArray{T<:Real,2}}\u001b[39m, \u001b[91m::Union{AbstractArray{T,1}, AbstractArray{T,2}} where T\u001b[39m, \u001b[91m::Union{AbstractArray{T,1}, AbstractArray{T,2}} where T\u001b[39m, \u001b[91m::Union{AbstractArray{T<:Real,1}, AbstractArray{T<:Real,2}}\u001b[39m, \u001b[91m::Union{AbstractArray{T<:Real,1}, AbstractArray{T<:Real,2}}\u001b[39m, \u001b[91m::Union{AbstractArray{Complex{T<:Real},2}, AbstractArray{T<:Real,2}}\u001b[39m) where T<:Real at In[23]:6\n  cov2coh!(\u001b[91m::Union{AbstractArray{Complex{T<:Real},2}, AbstractArray{T<:Real,2}}\u001b[39m, \u001b[91m::Union{AbstractArray{T,1}, AbstractArray{T,2}} where T\u001b[39m, \u001b[91m::Union{AbstractArray{T,1}, AbstractArray{T,2}} where T\u001b[39m, \u001b[91m::Union{AbstractArray{T<:Real,1}, AbstractArray{T<:Real,2}}\u001b[39m, \u001b[91m::Union{AbstractArray{T<:Real,1}, AbstractArray{T<:Real,2}}\u001b[39m, \u001b[91m::Union{AbstractArray{Complex{T<:Real},2}, AbstractArray{T<:Real,2}}\u001b[39m, \u001b[91m::Any\u001b[39m) where T<:Real at In[23]:6\u001b[39m",
     "output_type": "error",
     "traceback": [
      "\u001b[91mMethodError: no method matching cov2coh!(::Array{Float64,1})\u001b[0m\nClosest candidates are:\n  cov2coh!(\u001b[91m::Union{AbstractArray{Complex{T<:Real},2}, AbstractArray{T<:Real,2}}\u001b[39m, \u001b[91m::Union{AbstractArray{T,1}, AbstractArray{T,2}} where T\u001b[39m, \u001b[91m::Union{AbstractArray{T,1}, AbstractArray{T,2}} where T\u001b[39m, \u001b[91m::Union{AbstractArray{T<:Real,1}, AbstractArray{T<:Real,2}}\u001b[39m, \u001b[91m::Union{AbstractArray{T<:Real,1}, AbstractArray{T<:Real,2}}\u001b[39m) where T<:Real at In[23]:6\n  cov2coh!(\u001b[91m::Union{AbstractArray{Complex{T<:Real},2}, AbstractArray{T<:Real,2}}\u001b[39m, \u001b[91m::Union{AbstractArray{T,1}, AbstractArray{T,2}} where T\u001b[39m, \u001b[91m::Union{AbstractArray{T,1}, AbstractArray{T,2}} where T\u001b[39m, \u001b[91m::Union{AbstractArray{T<:Real,1}, AbstractArray{T<:Real,2}}\u001b[39m, \u001b[91m::Union{AbstractArray{T<:Real,1}, AbstractArray{T<:Real,2}}\u001b[39m, \u001b[91m::Union{AbstractArray{Complex{T<:Real},2}, AbstractArray{T<:Real,2}}\u001b[39m) where T<:Real at In[23]:6\n  cov2coh!(\u001b[91m::Union{AbstractArray{Complex{T<:Real},2}, AbstractArray{T<:Real,2}}\u001b[39m, \u001b[91m::Union{AbstractArray{T,1}, AbstractArray{T,2}} where T\u001b[39m, \u001b[91m::Union{AbstractArray{T,1}, AbstractArray{T,2}} where T\u001b[39m, \u001b[91m::Union{AbstractArray{T<:Real,1}, AbstractArray{T<:Real,2}}\u001b[39m, \u001b[91m::Union{AbstractArray{T<:Real,1}, AbstractArray{T<:Real,2}}\u001b[39m, \u001b[91m::Union{AbstractArray{Complex{T<:Real},2}, AbstractArray{T<:Real,2}}\u001b[39m, \u001b[91m::Any\u001b[39m) where T<:Real at In[23]:6\u001b[39m",
      "",
      "Stacktrace:",
      " [1] \u001b[1minclude_string\u001b[22m\u001b[22m\u001b[1m(\u001b[22m\u001b[22m::String, ::String\u001b[1m)\u001b[22m\u001b[22m at \u001b[1m./loading.jl:515\u001b[22m\u001b[22m"
     ]
    }
   ],
   "source": [
    "cov2coh!(crosscov(sig1,sig2))"
   ]
  },
  {
   "cell_type": "code",
   "execution_count": 30,
   "metadata": {},
   "outputs": [
    {
     "data": {
      "text/plain": [
       "105-element Array{Complex{Float64},1}:\n",
       " 0.841597-0.0im      \n",
       " 0.950705-0.0569581im\n",
       " 0.803106-0.096577im \n",
       " 0.845085-0.15336im  \n",
       " 0.664635-0.162196im \n",
       " 0.713418-0.22006im  \n",
       " 0.581231-0.21814im  \n",
       " 0.654168-0.291254im \n",
       " 0.442543-0.229673im \n",
       " 0.593798-0.354778im \n",
       " 0.410265-0.279714im \n",
       " 0.489445-0.378481im \n",
       " 0.358954-0.313609im \n",
       "         ⋮           \n",
       " 0.358954+0.313609im \n",
       " 0.489445+0.378481im \n",
       " 0.410265+0.279714im \n",
       " 0.593798+0.354778im \n",
       " 0.442543+0.229673im \n",
       " 0.654168+0.291254im \n",
       " 0.581231+0.21814im  \n",
       " 0.713418+0.22006im  \n",
       " 0.664635+0.162196im \n",
       " 0.845085+0.15336im  \n",
       " 0.803106+0.096577im \n",
       " 0.950705+0.0569581im"
      ]
     },
     "execution_count": 30,
     "metadata": {},
     "output_type": "execute_result"
    }
   ],
   "source": [
    "C_xy = abs.(fft(crosscov(sig1,sig2))).^2\n",
    "C_xx = fft(crosscov(sig1,sig1))\n",
    "C_yy = fft(crosscov(sig2,sig2))\n",
    "\n",
    "coh_est = C_xy./(C_xx.*C_yy)"
   ]
  },
  {
   "cell_type": "code",
   "execution_count": null,
   "metadata": {
    "collapsed": true
   },
   "outputs": [],
   "source": []
  }
 ],
 "metadata": {
  "kernelspec": {
   "display_name": "Julia 0.6.0",
   "language": "julia",
   "name": "julia-0.6"
  },
  "language_info": {
   "file_extension": ".jl",
   "mimetype": "application/julia",
   "name": "julia",
   "version": "0.6.0"
  }
 },
 "nbformat": 4,
 "nbformat_minor": 2
}
